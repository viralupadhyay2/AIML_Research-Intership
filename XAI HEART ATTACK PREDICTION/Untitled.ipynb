{
 "cells": [
  {
   "cell_type": "code",
   "execution_count": null,
   "id": "8eed8022-3985-4aa9-90d4-632ab7a28eb0",
   "metadata": {},
   "outputs": [],
   "source": [
    "import pandas as pd\n",
    "from sklearn.model_selection import train_test_split, GridSearchCV\n",
    "from sklearn.ensemble import RandomForestClassifier\n",
    "from sklearn.metrics import classification_report, accuracy_score\n",
    "from sklearn.preprocessing import StandardScaler\n",
    "\n",
    "# Load your dataset into a pandas DataFrame\n",
    "# Assuming your dataset is stored in a CSV file called 'heart_data.csv'\n",
    "data = pd.read_csv(r'C:\\Users\\Admin\\Desktop\\XAI HEART ATTACK PREDICTION\\heart.csv')\n",
    "\n",
    "# Assuming your target variable is 'HeartDisease'\n",
    "X = data.drop(columns=['HeartDisease'])  # Features\n",
    "y = data['HeartDisease']  # Target variable\n",
    "\n",
    "# Convert categorical variables into numerical values using one-hot encoding\n",
    "X = pd.get_dummies(X, columns=['Sex', 'ChestPainType', 'FastingBS', 'RestingECG', 'ExerciseAngina', 'ST_Slope'])\n",
    "\n",
    "# Split the data into training and testing sets\n",
    "X_train, X_test, y_train, y_test = train_test_split(X, y, test_size=0.2, random_state=42)\n",
    "\n",
    "# Standardize features by removing the mean and scaling to unit variance\n",
    "scaler = StandardScaler()\n",
    "X_train_scaled = scaler.fit_transform(X_train)\n",
    "X_test_scaled = scaler.transform(X_test)\n",
    "\n",
    "# Create a Random Forest Classifier\n",
    "clf = RandomForestClassifier(random_state=42)\n",
    "\n",
    "# Define hyperparameters to tune\n",
    "param_grid = {\n",
    "    'n_estimators': [50, 100, 150],\n",
    "    'max_depth': [None, 10, 20],\n",
    "    'min_samples_split': [2, 5, 10],\n",
    "    'min_samples_leaf': [1, 2, 4]\n",
    "}\n",
    "\n",
    "# Perform Grid Search to find the best hyperparameters\n",
    "grid_search = GridSearchCV(estimator=clf, param_grid=param_grid, cv=5)\n",
    "grid_search.fit(X_train_scaled, y_train)\n",
    "\n",
    "# Get the best parameters and use them to train the model\n",
    "best_params = grid_search.best_params_\n",
    "clf = RandomForestClassifier(random_state=42, **best_params)\n",
    "clf.fit(X_train_scaled, y_train)\n",
    "\n",
    "# Make predictions on the test data\n",
    "predictions = clf.predict(X_test_scaled)\n",
    "\n",
    "# Generate a classification report\n",
    "class_report = classification_report(y_test, predictions)\n",
    "print(\"Classification Report:\\n\", class_report)\n",
    "print(\"Best Hyperparameters:\", best_params)\n",
    "\n",
    "# Calculate accuracy\n",
    "accuracy = accuracy_score(y_test, predictions)\n",
    "print(\"Accuracy:\", accuracy)\n"
   ]
  },
  {
   "cell_type": "code",
   "execution_count": 4,
   "id": "d1067fc2-09f3-4c0b-981d-8e8b80351337",
   "metadata": {},
   "outputs": [
    {
     "name": "stdout",
     "output_type": "stream",
     "text": [
      "Shape of X_train_scaled: (734, 21)\n",
      "Shape of X_test_scaled: (184, 21)\n",
      "Training Features: ['Age', 'RestingBP', 'Cholesterol', 'MaxHR', 'Oldpeak', 'Sex_F', 'Sex_M', 'ChestPainType_ASY', 'ChestPainType_ATA', 'ChestPainType_NAP', 'ChestPainType_TA', 'FastingBS_0', 'FastingBS_1', 'RestingECG_LVH', 'RestingECG_Normal', 'RestingECG_ST', 'ExerciseAngina_N', 'ExerciseAngina_Y', 'ST_Slope_Down', 'ST_Slope_Flat', 'ST_Slope_Up']\n",
      "Test Features: ['Age', 'RestingBP', 'Cholesterol', 'MaxHR', 'Oldpeak', 'Sex_F', 'Sex_M', 'ChestPainType_ASY', 'ChestPainType_ATA', 'ChestPainType_NAP', 'ChestPainType_TA', 'FastingBS_0', 'FastingBS_1', 'RestingECG_LVH', 'RestingECG_Normal', 'RestingECG_ST', 'ExerciseAngina_N', 'ExerciseAngina_Y', 'ST_Slope_Down', 'ST_Slope_Flat', 'ST_Slope_Up']\n",
      "Model Details: RandomForestClassifier(min_samples_split=5, random_state=42)\n"
     ]
    }
   ],
   "source": [
    "print(\"Shape of X_train_scaled:\", X_train_scaled.shape)\n",
    "print(\"Shape of X_test_scaled:\", X_test_scaled.shape)\n",
    "\n",
    "# Verify feature names consistency\n",
    "print(\"Training Features:\", X_train.columns.tolist())\n",
    "print(\"Test Features:\", X_test.columns.tolist())\n",
    "\n",
    "# Verify model consistency (ensure clf is the correct model instance)\n",
    "print(\"Model Details:\", clf)"
   ]
  },
  {
   "cell_type": "code",
   "execution_count": 5,
   "id": "ff92c4ff-30cc-4fee-b2df-44c9b76ca28f",
   "metadata": {},
   "outputs": [
    {
     "name": "stdout",
     "output_type": "stream",
     "text": [
      "Model Predictions: [0 1 1 1 0 1 1 0 1 1 1 0 1 0 1 1 0 1 1 0 1 1 0 0 1 1 0 1 0 0 1 0 1 1 1 0 1\n",
      " 0 1 1 1 1 1 0 0 1 1 1 1 1 0 0 1 1 0 0 0 1 1 1 0 0 0 1 0 1 1 1 1 1 0 0 1 1\n",
      " 0 1 0 1 0 1 0 1 1 0 1 1 0 1 0 0 0 1 1 0 1 0 1 0 1 1 0 1 1 0 1 1 0 1 1 0 1\n",
      " 1 0 0 1 0 1 0 1 1 1 1 1 1 0 0 0 0 0 0 0 1 1 0 1 0 1 1 0 1 0 0 1 1 1 1 1 0\n",
      " 0 0 0 1 1 0 1 0 0 0 0 1 0 0 1 0 1 1 1 1 0 0 1 1 0 1 0 1 1 1 0 1 1 1 0 1]\n"
     ]
    }
   ],
   "source": [
    "# Check model predictions for the test data\n",
    "model_predictions = clf.predict(X_test_scaled)\n",
    "print(\"Model Predictions:\", model_predictions)\n"
   ]
  },
  {
   "cell_type": "code",
   "execution_count": null,
   "id": "f4638e51-8bcf-49ec-ac7b-67de78321748",
   "metadata": {},
   "outputs": [],
   "source": [
    "import shap\n",
    "import pandas as pd\n",
    "from sklearn.ensemble import RandomForestClassifier\n",
    "\n",
    "# Assuming you have your test data in X_test and the trained Random Forest model in rf_classifier\n",
    "# Initialize the SHAP explainer with the trained Random Forest model\n",
    "explainer = shap.Explainer(rf_classifier, X_test)\n",
    "\n",
    "# Calculate SHAP values for all the test samples\n",
    "shap_values = explainer(X_test)\n",
    "\n",
    "# Create a summary plot to visualize feature importances for a specific instance\n",
    "shap.summary_plot(shap_values, X_test)\n"
   ]
  },
  {
   "cell_type": "code",
   "execution_count": 1,
   "id": "24330983-c481-4fc1-99c7-a21dc5a9a786",
   "metadata": {},
   "outputs": [
    {
     "name": "stdout",
     "output_type": "stream",
     "text": [
      "           Model Accuracy Precision Recall F1-Score\n",
      "0  Random Forest    87.5%       85%    89%      87%\n",
      "1            MLP    85.3%       79%    83%      81%\n",
      "2  Decision Tree    85.3%       84%    89%      87%\n",
      "3            KNN    70.7%       63%    70%      67%\n"
     ]
    }
   ],
   "source": [
    "import pandas as pd\n",
    "\n",
    "# Data\n",
    "data = {\n",
    "    'Model': ['Random Forest', 'MLP', 'Decision Tree', 'KNN'],\n",
    "    'Accuracy': ['87.5%', '85.3%', '85.3%', '70.7%'],\n",
    "    'Precision': ['85%', '79%', '84%', '63%'],\n",
    "    'Recall': ['89%', '83%', '89%', '70%'],\n",
    "    'F1-Score': ['87%', '81%', '87%', '67%']\n",
    "}\n",
    "\n",
    "# Create DataFrame\n",
    "model_comparison = pd.DataFrame(data)\n",
    "\n",
    "# Print table\n",
    "print(model_comparison)\n"
   ]
  },
  {
   "cell_type": "code",
   "execution_count": null,
   "id": "c2c7e332-517d-4c36-8ec2-ad7a20fb9580",
   "metadata": {},
   "outputs": [],
   "source": []
  }
 ],
 "metadata": {
  "kernelspec": {
   "display_name": "Python 3 (ipykernel)",
   "language": "python",
   "name": "python3"
  },
  "language_info": {
   "codemirror_mode": {
    "name": "ipython",
    "version": 3
   },
   "file_extension": ".py",
   "mimetype": "text/x-python",
   "name": "python",
   "nbconvert_exporter": "python",
   "pygments_lexer": "ipython3",
   "version": "3.11.5"
  }
 },
 "nbformat": 4,
 "nbformat_minor": 5
}
